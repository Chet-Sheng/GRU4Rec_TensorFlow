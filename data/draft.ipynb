{
 "cells": [
  {
   "cell_type": "code",
   "execution_count": 1,
   "metadata": {},
   "outputs": [
    {
     "name": "stderr",
     "output_type": "stream",
     "text": [
      "/usr/lib/python3.6/site-packages/h5py/__init__.py:36: FutureWarning: Conversion of the second argument of issubdtype from `float` to `np.floating` is deprecated. In future, it will be treated as `np.float64 == np.dtype(float).type`.\n",
      "  from ._conv import register_converters as _register_converters\n"
     ]
    }
   ],
   "source": [
    "import numpy as np\n",
    "import pandas as pd\n",
    "import tensorflow as tf"
   ]
  },
  {
   "cell_type": "markdown",
   "metadata": {},
   "source": [
    "# Loading Data"
   ]
  },
  {
   "cell_type": "code",
   "execution_count": 2,
   "metadata": {},
   "outputs": [
    {
     "name": "stdout",
     "output_type": "stream",
     "text": [
      "CPU times: user 8.18 s, sys: 468 ms, total: 8.65 s\n",
      "Wall time: 8.64 s\n"
     ]
    }
   ],
   "source": [
    "%%time\n",
    "data_train=pd.read_table('rsc15_train_tr.txt')\n",
    "data_val=pd.read_table('rsc15_train_valid.txt')\n",
    "data_test=pd.read_table('rsc15_test.txt')"
   ]
  },
  {
   "cell_type": "code",
   "execution_count": 3,
   "metadata": {},
   "outputs": [
    {
     "name": "stdout",
     "output_type": "stream",
     "text": [
      "<class 'pandas.core.frame.DataFrame'>\n",
      "RangeIndex: 31579006 entries, 0 to 31579005\n",
      "Data columns (total 3 columns):\n",
      "SessionId    int64\n",
      "ItemId       int64\n",
      "Time         float64\n",
      "dtypes: float64(1), int64(2)\n",
      "memory usage: 722.8 MB\n"
     ]
    }
   ],
   "source": [
    "data_train.info()"
   ]
  },
  {
   "cell_type": "code",
   "execution_count": 4,
   "metadata": {},
   "outputs": [
    {
     "data": {
      "text/html": [
       "<div>\n",
       "<style scoped>\n",
       "    .dataframe tbody tr th:only-of-type {\n",
       "        vertical-align: middle;\n",
       "    }\n",
       "\n",
       "    .dataframe tbody tr th {\n",
       "        vertical-align: top;\n",
       "    }\n",
       "\n",
       "    .dataframe thead th {\n",
       "        text-align: right;\n",
       "    }\n",
       "</style>\n",
       "<table border=\"1\" class=\"dataframe\">\n",
       "  <thead>\n",
       "    <tr style=\"text-align: right;\">\n",
       "      <th></th>\n",
       "      <th>SessionId</th>\n",
       "      <th>ItemId</th>\n",
       "      <th>Time</th>\n",
       "    </tr>\n",
       "  </thead>\n",
       "  <tbody>\n",
       "    <tr>\n",
       "      <th>0</th>\n",
       "      <td>1</td>\n",
       "      <td>214536502</td>\n",
       "      <td>1.396864e+09</td>\n",
       "    </tr>\n",
       "    <tr>\n",
       "      <th>1</th>\n",
       "      <td>1</td>\n",
       "      <td>214536500</td>\n",
       "      <td>1.396864e+09</td>\n",
       "    </tr>\n",
       "    <tr>\n",
       "      <th>2</th>\n",
       "      <td>1</td>\n",
       "      <td>214536506</td>\n",
       "      <td>1.396864e+09</td>\n",
       "    </tr>\n",
       "    <tr>\n",
       "      <th>3</th>\n",
       "      <td>1</td>\n",
       "      <td>214577561</td>\n",
       "      <td>1.396865e+09</td>\n",
       "    </tr>\n",
       "    <tr>\n",
       "      <th>4</th>\n",
       "      <td>2</td>\n",
       "      <td>214662742</td>\n",
       "      <td>1.396875e+09</td>\n",
       "    </tr>\n",
       "  </tbody>\n",
       "</table>\n",
       "</div>"
      ],
      "text/plain": [
       "   SessionId     ItemId          Time\n",
       "0          1  214536502  1.396864e+09\n",
       "1          1  214536500  1.396864e+09\n",
       "2          1  214536506  1.396864e+09\n",
       "3          1  214577561  1.396865e+09\n",
       "4          2  214662742  1.396875e+09"
      ]
     },
     "execution_count": 4,
     "metadata": {},
     "output_type": "execute_result"
    }
   ],
   "source": [
    "data_train.head()"
   ]
  },
  {
   "cell_type": "code",
   "execution_count": 5,
   "metadata": {},
   "outputs": [
    {
     "data": {
      "text/html": [
       "<div>\n",
       "<style scoped>\n",
       "    .dataframe tbody tr th:only-of-type {\n",
       "        vertical-align: middle;\n",
       "    }\n",
       "\n",
       "    .dataframe tbody tr th {\n",
       "        vertical-align: top;\n",
       "    }\n",
       "\n",
       "    .dataframe thead th {\n",
       "        text-align: right;\n",
       "    }\n",
       "</style>\n",
       "<table border=\"1\" class=\"dataframe\">\n",
       "  <thead>\n",
       "    <tr style=\"text-align: right;\">\n",
       "      <th></th>\n",
       "      <th>SessionId</th>\n",
       "      <th>ItemId</th>\n",
       "      <th>Time</th>\n",
       "    </tr>\n",
       "  </thead>\n",
       "  <tbody>\n",
       "    <tr>\n",
       "      <th>0</th>\n",
       "      <td>11264996</td>\n",
       "      <td>214859872</td>\n",
       "      <td>1.411911e+09</td>\n",
       "    </tr>\n",
       "    <tr>\n",
       "      <th>1</th>\n",
       "      <td>11264996</td>\n",
       "      <td>214859870</td>\n",
       "      <td>1.411911e+09</td>\n",
       "    </tr>\n",
       "    <tr>\n",
       "      <th>2</th>\n",
       "      <td>11264996</td>\n",
       "      <td>214859902</td>\n",
       "      <td>1.411911e+09</td>\n",
       "    </tr>\n",
       "    <tr>\n",
       "      <th>3</th>\n",
       "      <td>11264987</td>\n",
       "      <td>214714807</td>\n",
       "      <td>1.411912e+09</td>\n",
       "    </tr>\n",
       "    <tr>\n",
       "      <th>4</th>\n",
       "      <td>11264987</td>\n",
       "      <td>214714807</td>\n",
       "      <td>1.411912e+09</td>\n",
       "    </tr>\n",
       "  </tbody>\n",
       "</table>\n",
       "</div>"
      ],
      "text/plain": [
       "   SessionId     ItemId          Time\n",
       "0   11264996  214859872  1.411911e+09\n",
       "1   11264996  214859870  1.411911e+09\n",
       "2   11264996  214859902  1.411911e+09\n",
       "3   11264987  214714807  1.411912e+09\n",
       "4   11264987  214714807  1.411912e+09"
      ]
     },
     "execution_count": 5,
     "metadata": {},
     "output_type": "execute_result"
    }
   ],
   "source": [
    "data_val.head()"
   ]
  },
  {
   "cell_type": "code",
   "execution_count": 6,
   "metadata": {},
   "outputs": [
    {
     "data": {
      "text/html": [
       "<div>\n",
       "<style scoped>\n",
       "    .dataframe tbody tr th:only-of-type {\n",
       "        vertical-align: middle;\n",
       "    }\n",
       "\n",
       "    .dataframe tbody tr th {\n",
       "        vertical-align: top;\n",
       "    }\n",
       "\n",
       "    .dataframe thead th {\n",
       "        text-align: right;\n",
       "    }\n",
       "</style>\n",
       "<table border=\"1\" class=\"dataframe\">\n",
       "  <thead>\n",
       "    <tr style=\"text-align: right;\">\n",
       "      <th></th>\n",
       "      <th>SessionId</th>\n",
       "      <th>ItemId</th>\n",
       "      <th>Time</th>\n",
       "    </tr>\n",
       "  </thead>\n",
       "  <tbody>\n",
       "    <tr>\n",
       "      <th>0</th>\n",
       "      <td>11265009</td>\n",
       "      <td>214586805</td>\n",
       "      <td>1.412000e+09</td>\n",
       "    </tr>\n",
       "    <tr>\n",
       "      <th>1</th>\n",
       "      <td>11265009</td>\n",
       "      <td>214509260</td>\n",
       "      <td>1.412000e+09</td>\n",
       "    </tr>\n",
       "    <tr>\n",
       "      <th>2</th>\n",
       "      <td>11265017</td>\n",
       "      <td>214857547</td>\n",
       "      <td>1.412014e+09</td>\n",
       "    </tr>\n",
       "    <tr>\n",
       "      <th>3</th>\n",
       "      <td>11265017</td>\n",
       "      <td>214857268</td>\n",
       "      <td>1.412014e+09</td>\n",
       "    </tr>\n",
       "    <tr>\n",
       "      <th>4</th>\n",
       "      <td>11265017</td>\n",
       "      <td>214857260</td>\n",
       "      <td>1.412014e+09</td>\n",
       "    </tr>\n",
       "  </tbody>\n",
       "</table>\n",
       "</div>"
      ],
      "text/plain": [
       "   SessionId     ItemId          Time\n",
       "0   11265009  214586805  1.412000e+09\n",
       "1   11265009  214509260  1.412000e+09\n",
       "2   11265017  214857547  1.412014e+09\n",
       "3   11265017  214857268  1.412014e+09\n",
       "4   11265017  214857260  1.412014e+09"
      ]
     },
     "execution_count": 6,
     "metadata": {},
     "output_type": "execute_result"
    }
   ],
   "source": [
    "data_test.head()"
   ]
  },
  {
   "cell_type": "markdown",
   "metadata": {},
   "source": [
    "# Create Sampled Dataset"
   ]
  },
  {
   "cell_type": "code",
   "execution_count": 14,
   "metadata": {},
   "outputs": [],
   "source": [
    "data_train[:1000].to_csv('data_train.csv', index=False)"
   ]
  },
  {
   "cell_type": "markdown",
   "metadata": {},
   "source": [
    "# Draft\n"
   ]
  },
  {
   "cell_type": "code",
   "execution_count": 7,
   "metadata": {},
   "outputs": [],
   "source": [
    "data=data_train[:1000].copy()"
   ]
  },
  {
   "cell_type": "code",
   "execution_count": 8,
   "metadata": {},
   "outputs": [],
   "source": [
    "# sort values\n",
    "data.sort_values(['SessionId', 'Time'], inplace=True)"
   ]
  },
  {
   "cell_type": "code",
   "execution_count": 9,
   "metadata": {},
   "outputs": [
    {
     "data": {
      "text/plain": [
       "264"
      ]
     },
     "execution_count": 9,
     "metadata": {},
     "output_type": "execute_result"
    }
   ],
   "source": [
    "data['SessionId'].nunique()+1"
   ]
  },
  {
   "cell_type": "code",
   "execution_count": 10,
   "metadata": {},
   "outputs": [
    {
     "data": {
      "text/plain": [
       "263"
      ]
     },
     "execution_count": 10,
     "metadata": {},
     "output_type": "execute_result"
    }
   ],
   "source": [
    "len(data['SessionId'].unique())"
   ]
  },
  {
   "cell_type": "code",
   "execution_count": 11,
   "metadata": {},
   "outputs": [],
   "source": [
    "offset_sessions = np.zeros(data['SessionId'].nunique()+1, dtype=np.int32)"
   ]
  },
  {
   "cell_type": "code",
   "execution_count": 12,
   "metadata": {},
   "outputs": [
    {
     "data": {
      "text/plain": [
       "array([0, 0, 0, 0, 0, 0, 0, 0, 0, 0, 0, 0, 0, 0, 0, 0, 0, 0, 0, 0, 0, 0,\n",
       "       0, 0, 0, 0, 0, 0, 0, 0, 0, 0, 0, 0, 0, 0, 0, 0, 0, 0, 0, 0, 0, 0,\n",
       "       0, 0, 0, 0, 0, 0, 0, 0, 0, 0, 0, 0, 0, 0, 0, 0, 0, 0, 0, 0, 0, 0,\n",
       "       0, 0, 0, 0, 0, 0, 0, 0, 0, 0, 0, 0, 0, 0, 0, 0, 0, 0, 0, 0, 0, 0,\n",
       "       0, 0, 0, 0, 0, 0, 0, 0, 0, 0, 0, 0, 0, 0, 0, 0, 0, 0, 0, 0, 0, 0,\n",
       "       0, 0, 0, 0, 0, 0, 0, 0, 0, 0, 0, 0, 0, 0, 0, 0, 0, 0, 0, 0, 0, 0,\n",
       "       0, 0, 0, 0, 0, 0, 0, 0, 0, 0, 0, 0, 0, 0, 0, 0, 0, 0, 0, 0, 0, 0,\n",
       "       0, 0, 0, 0, 0, 0, 0, 0, 0, 0, 0, 0, 0, 0, 0, 0, 0, 0, 0, 0, 0, 0,\n",
       "       0, 0, 0, 0, 0, 0, 0, 0, 0, 0, 0, 0, 0, 0, 0, 0, 0, 0, 0, 0, 0, 0,\n",
       "       0, 0, 0, 0, 0, 0, 0, 0, 0, 0, 0, 0, 0, 0, 0, 0, 0, 0, 0, 0, 0, 0,\n",
       "       0, 0, 0, 0, 0, 0, 0, 0, 0, 0, 0, 0, 0, 0, 0, 0, 0, 0, 0, 0, 0, 0,\n",
       "       0, 0, 0, 0, 0, 0, 0, 0, 0, 0, 0, 0, 0, 0, 0, 0, 0, 0, 0, 0, 0, 0],\n",
       "      dtype=int32)"
      ]
     },
     "execution_count": 12,
     "metadata": {},
     "output_type": "execute_result"
    }
   ],
   "source": [
    "offset_sessions"
   ]
  },
  {
   "cell_type": "code",
   "execution_count": 13,
   "metadata": {},
   "outputs": [
    {
     "data": {
      "text/plain": [
       "SessionId\n",
       "1       4\n",
       "2       6\n",
       "3       3\n",
       "4       2\n",
       "6       2\n",
       "7       2\n",
       "8       2\n",
       "9       3\n",
       "11     12\n",
       "12      2\n",
       "13      3\n",
       "14      3\n",
       "16      3\n",
       "17      2\n",
       "18      2\n",
       "19      4\n",
       "21      6\n",
       "22     16\n",
       "23      4\n",
       "24      4\n",
       "26      4\n",
       "27     10\n",
       "28      3\n",
       "29      2\n",
       "31      2\n",
       "32      2\n",
       "33     16\n",
       "34      2\n",
       "36      2\n",
       "37      2\n",
       "       ..\n",
       "304     3\n",
       "306     2\n",
       "307     4\n",
       "308     3\n",
       "309     3\n",
       "311     3\n",
       "312     2\n",
       "313     2\n",
       "314     5\n",
       "316     2\n",
       "317     2\n",
       "318     2\n",
       "319     3\n",
       "321     3\n",
       "322     2\n",
       "323     2\n",
       "324    13\n",
       "327     4\n",
       "336     2\n",
       "337     7\n",
       "338     2\n",
       "339     2\n",
       "342     3\n",
       "343     2\n",
       "344     3\n",
       "346     2\n",
       "347     2\n",
       "348     2\n",
       "349     5\n",
       "351     4\n",
       "Length: 263, dtype: int64"
      ]
     },
     "execution_count": 13,
     "metadata": {},
     "output_type": "execute_result"
    }
   ],
   "source": [
    "data.groupby('SessionId').size()"
   ]
  },
  {
   "cell_type": "code",
   "execution_count": 14,
   "metadata": {},
   "outputs": [
    {
     "data": {
      "text/plain": [
       "SessionId\n",
       "1         4\n",
       "2        10\n",
       "3        13\n",
       "4        15\n",
       "6        17\n",
       "7        19\n",
       "8        21\n",
       "9        24\n",
       "11       36\n",
       "12       38\n",
       "13       41\n",
       "14       44\n",
       "16       47\n",
       "17       49\n",
       "18       51\n",
       "19       55\n",
       "21       61\n",
       "22       77\n",
       "23       81\n",
       "24       85\n",
       "26       89\n",
       "27       99\n",
       "28      102\n",
       "29      104\n",
       "31      106\n",
       "32      108\n",
       "33      124\n",
       "34      126\n",
       "36      128\n",
       "37      130\n",
       "       ... \n",
       "304     907\n",
       "306     909\n",
       "307     913\n",
       "308     916\n",
       "309     919\n",
       "311     922\n",
       "312     924\n",
       "313     926\n",
       "314     931\n",
       "316     933\n",
       "317     935\n",
       "318     937\n",
       "319     940\n",
       "321     943\n",
       "322     945\n",
       "323     947\n",
       "324     960\n",
       "327     964\n",
       "336     966\n",
       "337     973\n",
       "338     975\n",
       "339     977\n",
       "342     980\n",
       "343     982\n",
       "344     985\n",
       "346     987\n",
       "347     989\n",
       "348     991\n",
       "349     996\n",
       "351    1000\n",
       "Length: 263, dtype: int64"
      ]
     },
     "execution_count": 14,
     "metadata": {},
     "output_type": "execute_result"
    }
   ],
   "source": [
    "data.groupby('SessionId').size().cumsum()"
   ]
  },
  {
   "cell_type": "code",
   "execution_count": 15,
   "metadata": {},
   "outputs": [],
   "source": [
    "# nunique+1 seems to make a space for name or what according to next line    \n",
    "offset_sessions = np.zeros(data['SessionId'].nunique()+1, dtype=np.int32)\n",
    "# cumsum seems to count number of time_steps for each session.\n",
    "offset_sessions[1:] = data.groupby('SessionId').size().cumsum()"
   ]
  },
  {
   "cell_type": "code",
   "execution_count": 16,
   "metadata": {},
   "outputs": [
    {
     "data": {
      "text/plain": [
       "array([   0,    4,   10,   13,   15,   17,   19,   21,   24,   36,   38,\n",
       "         41,   44,   47,   49,   51,   55,   61,   77,   81,   85,   89,\n",
       "         99,  102,  104,  106,  108,  124,  126,  128,  130,  133,  135,\n",
       "        140,  142,  144,  152,  158,  161,  165,  167,  172,  174,  178,\n",
       "        184,  189,  191,  193,  195,  200,  210,  213,  216,  219,  221,\n",
       "        223,  225,  227,  231,  233,  235,  238,  246,  255,  257,  262,\n",
       "        266,  277,  304,  306,  308,  310,  313,  317,  319,  321,  323,\n",
       "        325,  330,  332,  334,  336,  340,  342,  344,  347,  365,  367,\n",
       "        369,  372,  374,  376,  380,  382,  384,  404,  406,  414,  416,\n",
       "        419,  421,  423,  429,  432,  434,  436,  440,  442,  446,  453,\n",
       "        455,  457,  459,  462,  470,  474,  476,  479,  481,  485,  490,\n",
       "        492,  494,  500,  502,  504,  506,  511,  514,  519,  521,  524,\n",
       "        526,  529,  532,  534,  536,  538,  540,  543,  547,  549,  551,\n",
       "        553,  556,  558,  565,  567,  570,  573,  577,  579,  583,  587,\n",
       "        592,  595,  598,  600,  602,  607,  609,  611,  615,  619,  621,\n",
       "        624,  640,  642,  650,  652,  658,  661,  663,  666,  671,  673,\n",
       "        675,  678,  680,  682,  684,  687,  689,  701,  704,  707,  710,\n",
       "        713,  715,  717,  722,  726,  729,  742,  747,  751,  754,  763,\n",
       "        767,  770,  778,  782,  791,  793,  796,  798,  803,  808,  811,\n",
       "        815,  817,  819,  833,  835,  839,  841,  843,  845,  849,  851,\n",
       "        856,  859,  861,  865,  869,  878,  886,  889,  891,  893,  896,\n",
       "        900,  902,  904,  907,  909,  913,  916,  919,  922,  924,  926,\n",
       "        931,  933,  935,  937,  940,  943,  945,  947,  960,  964,  966,\n",
       "        973,  975,  977,  980,  982,  985,  987,  989,  991,  996, 1000],\n",
       "      dtype=int32)"
      ]
     },
     "execution_count": 16,
     "metadata": {},
     "output_type": "execute_result"
    }
   ],
   "source": [
    "offset_sessions"
   ]
  },
  {
   "cell_type": "code",
   "execution_count": 20,
   "metadata": {},
   "outputs": [
    {
     "data": {
      "text/plain": [
       "(1000,)"
      ]
     },
     "execution_count": 20,
     "metadata": {},
     "output_type": "execute_result"
    }
   ],
   "source": [
    "data.ItemId.values.shape"
   ]
  },
  {
   "cell_type": "code",
   "execution_count": 33,
   "metadata": {},
   "outputs": [],
   "source": [
    "A=data.ItemId.values[[1,10,100]]"
   ]
  },
  {
   "cell_type": "code",
   "execution_count": 34,
   "metadata": {},
   "outputs": [],
   "source": [
    "B=data.ItemId.values[[9,99,200]]"
   ]
  },
  {
   "cell_type": "code",
   "execution_count": 43,
   "metadata": {},
   "outputs": [],
   "source": [
    "X = tf.placeholder(tf.int32, [3], name='input')\n",
    "Y = tf.placeholder(tf.int32, [3], name='output')\n",
    "state = [tf.placeholder(tf.float32, [self.batch_size, self.rnn_size], name='rnn_state') for _ in xrange(self.layers)]\n",
    "\n",
    "\n",
    "feed_dict={X: A, Y: B}"
   ]
  },
  {
   "cell_type": "code",
   "execution_count": 44,
   "metadata": {},
   "outputs": [
    {
     "data": {
      "text/plain": [
       "{<tf.Tensor 'input_1:0' shape=(3,) dtype=int32>: array([214536500, 214716935, 214836789]),\n",
       " <tf.Tensor 'output_1:0' shape=(3,) dtype=int32>: array([214551617, 214836789, 214714794])}"
      ]
     },
     "execution_count": 44,
     "metadata": {},
     "output_type": "execute_result"
    }
   ],
   "source": [
    "feed_dict"
   ]
  },
  {
   "cell_type": "code",
   "execution_count": null,
   "metadata": {},
   "outputs": [],
   "source": []
  },
  {
   "cell_type": "code",
   "execution_count": 47,
   "metadata": {},
   "outputs": [
    {
     "data": {
      "text/plain": [
       "array([0, 1, 2])"
      ]
     },
     "execution_count": 47,
     "metadata": {},
     "output_type": "execute_result"
    }
   ],
   "source": [
    "np.arange(3)"
   ]
  },
  {
   "cell_type": "code",
   "execution_count": 97,
   "metadata": {},
   "outputs": [],
   "source": [
    "t"
   ]
  }
 ],
 "metadata": {
  "kernelspec": {
   "display_name": "Python 3",
   "language": "python",
   "name": "python3"
  },
  "language_info": {
   "codemirror_mode": {
    "name": "ipython",
    "version": 3
   },
   "file_extension": ".py",
   "mimetype": "text/x-python",
   "name": "python",
   "nbconvert_exporter": "python",
   "pygments_lexer": "ipython3",
   "version": "3.6.5"
  },
  "toc": {
   "base_numbering": 1,
   "nav_menu": {},
   "number_sections": true,
   "sideBar": true,
   "skip_h1_title": false,
   "title_cell": "Table of Contents",
   "title_sidebar": "Contents",
   "toc_cell": false,
   "toc_position": {},
   "toc_section_display": true,
   "toc_window_display": true
  }
 },
 "nbformat": 4,
 "nbformat_minor": 2
}
